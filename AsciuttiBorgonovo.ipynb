{
  "nbformat": 4,
  "nbformat_minor": 0,
  "metadata": {
    "colab": {
      "provenance": [],
      "history_visible": true
    },
    "kernelspec": {
      "name": "python3",
      "display_name": "Python 3"
    },
    "language_info": {
      "name": "python"
    }
  },
  "cells": [
    {
      "cell_type": "markdown",
      "source": [
        "Project by Daniele Asciutti and Samuele Borgonovo"
      ],
      "metadata": {
        "id": "9eHhuHzrkSqP"
      }
    },
    {
      "cell_type": "markdown",
      "source": [
        "## Biogas plant\n",
        "\n",
        "You want to plan the two-year supply of raw materials for a biogas power plant. Such a plant produces energy by burning biogas, which is obtained from the bacterial fermentation of organic wastes. \n",
        "Specifically, your plant is powered by corn chopping, a residual of agro-industrial operations that you can purchase from 5 local farms. \n",
        "The table below shows the quarterly capacity of each farm for the next two years. Quantities are measured in tons.\n",
        "\n",
        "Farm|T1|T2|T3|T4|T5|T6|T7|T8\n",
        ":-|:-:|:-:|:-:|:-:|:-:|:-:|:-:|:-:\n",
        "1|700|1500|700|0|0|700|1500|0\n",
        "2|1350|0|450|0|1350|0|450|0\n",
        "3|0|1500|1500|0|0|1500|1500|0\n",
        "4|820|1560|820|0|820|1560|820|0\n",
        "5|0|680|1080|0|0|680|1080|0\n",
        "\n",
        "Due to crop rotations and corn harvesting periods, farms are unable to supply material in some quarters. Moreover the types of corn chopping provided are different, each coming with its own unitary purchase price, unitary storage cost and percentage of dry matter. The table below shows a summary of these information.\n",
        "\n",
        "Farm|Purchase price|Storage cost|Dry matter\n",
        ":-|:-:|:-:|:-:\n",
        "1|0.20|0.002|15\n",
        "2|0.18|0.012|28\n",
        "3|0.19|0.007|35\n",
        "4|0.21|0.011|37\n",
        "5|0.23|0.015|42\n",
        "\n",
        "Your biogas plant must operate by burning a mixture of corn choppings with a dry matter percentage between 20% and 40%. Under these conditions, the yield is 421.6 kWh of energy per ton of burned material. The energy produced by the plant is sold on the market at a price of 0.28 $/kWh. \n",
        "\n",
        "Due to state regulations, all biogas plants can produce a maximum of 1950 MWh of energy per quarter. You are allowed to store corn chopping in a silo, whose total capacity is of 500 tons. \n",
        "\n",
        "Plan the supply and inventory of your biogas plant with the goal of maximizing your profits (i.e., revenues minus costs)."
      ],
      "metadata": {
        "id": "JJ2pLFhGGvVN"
      }
    },
    {
      "cell_type": "code",
      "execution_count": 1,
      "metadata": {
        "colab": {
          "base_uri": "https://localhost:8080/"
        },
        "id": "C1X7687vGk0L",
        "outputId": "132b5bbc-92a5-4727-a20b-2b245569b3da"
      },
      "outputs": [
        {
          "output_type": "stream",
          "name": "stdout",
          "text": [
            "Looking in indexes: https://pypi.org/simple, https://us-python.pkg.dev/colab-wheels/public/simple/\n",
            "Requirement already satisfied: cffi==1.15.0 in /usr/local/lib/python3.8/dist-packages (1.15.0)\n",
            "Requirement already satisfied: pycparser in /usr/local/lib/python3.8/dist-packages (from cffi==1.15.0) (2.21)\n",
            "Looking in indexes: https://pypi.org/simple, https://us-python.pkg.dev/colab-wheels/public/simple/\n",
            "Collecting mip\n",
            "  Using cached mip-1.14.1-py3-none-any.whl (15.3 MB)\n",
            "Requirement already satisfied: cffi==1.15.0 in /usr/local/lib/python3.8/dist-packages (from mip) (1.15.0)\n",
            "Requirement already satisfied: pycparser in /usr/local/lib/python3.8/dist-packages (from cffi==1.15.0->mip) (2.21)\n",
            "Installing collected packages: mip\n",
            "Successfully installed mip-1.14.1\n"
          ]
        }
      ],
      "source": [
        "# When using Colab, make sure you run this instruction beforehand\n",
        "!pip install --upgrade cffi==1.15.0\n",
        "import importlib\n",
        "import cffi\n",
        "importlib.reload(cffi)\n",
        "!pip install mip"
      ]
    },
    {
      "cell_type": "markdown",
      "source": [
        "SETS:\n",
        "  \n",
        "*   $F$ = {1,...,5} (i) Farms\n",
        "*   $Q$ = {1,...,8} (j) Trimesters\n",
        "*   $Q_0$ = {0,...,8} \n",
        "\n",
        "PARAMETERS:\n",
        "  \n",
        "*   $p_{ij}$ production of the farm i in the trimester j\n",
        "*   $c_i$ cost per ton of production of farm i\n",
        "*   $s_i$ storage cost per ton of production of farm i\n",
        "*   $d_i$ percentage of dry matter of production of farm i\n",
        "*   $e$ energy per ton of burned material\n",
        "*   $es$ price of energy sold  \\$/KWh\n",
        "*   $max$ max energy production in a trimester  KWh\n",
        "*   $ms$ max tons that can be stored\n",
        "\n",
        "VARIABLES:\n",
        "\n",
        "*   $x_{ij}$ quantity of product i bought in the trimester j \n",
        "*   $y_{ij}$ quantity of product i burnt in the trimester j\n",
        "*   $z_{ij}$ quantity of product i stored in the trimester j\n",
        "\n",
        "CONSTRAINTS:\n",
        "\n",
        "\n",
        "*   $z_{i,0}=0 \\space\\space  \\forall i \\in F $ \n",
        "*   $y_{i,j} = x_{i,j} + z_{i,j-1} - z_{i,j}\\space\\space \\forall i \\in F,\\space \\forall j \\in Q$ \n",
        "*   $x_{i,j} \\le p_{i,j} \\space\\space \\forall i \\in F,\\space \\forall j \\in Q$\n",
        "*   $\\sum_{i \\in F} z_{i,j} \\le ms \\space\\space \\forall j \\in Q$\n",
        "*   $\\sum_{i \\in F} y_{i,j}*d_{i} \\ge  20*\\sum_{i \\in F} y_{i,j} \\space\\space \\forall j \\in Q$\n",
        "*   $\\sum_{i \\in F} y_{i,j}*d_{i} \\le  40*\\sum_{i \\in F} y_{i,j} \\space\\space \\forall j \\in Q$\n",
        "*   $\\sum_{i \\in F} y_{i,j}*e \\le max \\space\\space    \\forall j \\in Q$\n",
        "\n",
        "OBJECTIVE FUNCTION:\n",
        "\n",
        "\n",
        "> $\\sum_{i \\in F} \\sum_{j \\in Q} y_{i,j}*es*e - z_{i,j}*s_{i} - x_{i,j}*c_{i}$\n",
        "\n"
      ],
      "metadata": {
        "id": "PRwxzLIzgMCZ"
      }
    },
    {
      "cell_type": "code",
      "source": [
        "p =\\\n",
        "[[700,1500,700,0,0,700,1500,0],\n",
        "   [1350,0,450,0,1350,0,450,0],\n",
        "   [0,1500,1500,0,0,1500,1500,0],\n",
        "   [820,1560,820,0,820,1560,820,0],\n",
        "   [0,680,1080,0,0,680,1080,0]]\n",
        "              #tons of production of farm i (row) in the trimester j (column)\n",
        "column=8\n",
        "rows=5\n",
        "c = [0.20,0.18,0.19,0.21,0.23]   #cost per ton of production of farm i\n",
        "s = [0.002,0.012,0.007,0.011,0.015]   #storage cost per ton of product of farm i\n",
        "d = [15,28,35,37,42]            # percentage of dry matter of product of farm i\n",
        "e = 421.6    #energy per ton of burned material  KWh \n",
        "es = 0.28   #price of energy sold   $/KWh\n",
        "max = 1950000  #max energy production on a trimester  KWh\n",
        "ms = 500    #max tons that can be stored\n",
        "\n",
        "\n",
        "import mip\n",
        "\n",
        "m = mip.Model()\n",
        "x = {(i,j): m.add_var() for i in range(1,rows+1) for j in range(1,column+1)} #quantity of prod i bought in trimester j\n",
        "z = {(i,j): m.add_var() for i in range(1,rows+1) for j in range(column+1)} #quantity of prod i stored in trimester j\n",
        "y = {(i,j): m.add_var() for i in range(1,rows+1) for j in range(1,column+1)} #quantity of prod i burnt in trimester j\n",
        "\n",
        "#Constraints\n",
        "for i in range(1,rows+1):\n",
        "  m.add_constr(z[i,0] <= 0)     #storage in trimester 0 must be zero\n",
        "\n",
        "for i in range(1,rows+1):\n",
        "  for j in range(1,column+1):\n",
        "    m.add_constr(y[i,j] - x[i,j] - z[i,j-1] + z[i,j] <= 0)     #multi-period constraint\n",
        "\n",
        "for i in range(1,rows+1):\n",
        "  for j in range(1,column+1):\n",
        "    m.add_constr(x[i,j] <= p[i-1][j-1])    #max buy\n",
        "\n",
        "for j in range (1,column+1):\n",
        "  m.add_constr(mip.xsum(z[i,j] for i in range(1,rows+1)) <= ms)  #max storage\n",
        "  m.add_constr(mip.xsum(y[i,j]*d[i-1] for i in range(1,rows+1)) >= 20*mip.xsum(y[i,j] for i in range(1,rows+1)))  #dry matter percentage >=20\n",
        "  m.add_constr(mip.xsum(y[i,j]*d[i-1] for i in range(1,rows+1)) <= 40*mip.xsum(y[i,j] for i in range(1,rows+1)))  #dry matter percentage <=40  \n",
        "  m.add_constr(mip.xsum(y[i,j]*e for i in range(1,rows+1)) <= max)  #max energy production in a trimester\n",
        "\n",
        "#Objective function\n",
        "m.objective = mip.maximize(mip.xsum((y[i,j]*es*e - z[i,j]*s[i-1] - x[i,j]*c[i-1]) for i in range(1,rows+1) for j in range(1,column+1) ))\n",
        "\n",
        "solution=m.optimize()\n",
        "print(\"x:\")\n",
        "for i in range (1,rows+1):\n",
        "  for j in range(1,column+1):\n",
        "    print([round(x[i,j].x,2)],end=' ')\n",
        "  print('\\n')  \n",
        "\n",
        "print(\"y:\")\n",
        "for i in range (1,rows+1):\n",
        "  for j in range(1,column+1):\n",
        "    print([round(y[i,j].x,2)],end=' ')\n",
        "  print('\\n') \n",
        "\n",
        "print(\"z:\")\n",
        "for i in range (1,rows+1):\n",
        "  for j in range(1,column+1):\n",
        "    print([round(z[i,j].x,2)],end=' ')\n",
        "  print('\\n')   \n",
        "\n",
        "print(m.objective_value)\n",
        "print(solution)"
      ],
      "metadata": {
        "colab": {
          "base_uri": "https://localhost:8080/"
        },
        "id": "B92S49eMGtx7",
        "outputId": "878f90fb-6c42-4d49-f0d5-632939dee292"
      },
      "execution_count": 8,
      "outputs": [
        {
          "output_type": "stream",
          "name": "stdout",
          "text": [
            "x:\n",
            "[700.0] [1500.0] [700.0] [0.0] [0.0] [700.0] [1500.0] [0.0] \n",
            "\n",
            "[1350.0] [0.0] [450.0] [0.0] [1350.0] [0.0] [450.0] [0.0] \n",
            "\n",
            "[0.0] [1500.0] [1500.0] [0.0] [0.0] [1500.0] [1500.0] [0.0] \n",
            "\n",
            "[820.0] [1560.0] [820.0] [0.0] [820.0] [1560.0] [820.0] [0.0] \n",
            "\n",
            "[0.0] [565.24] [1080.0] [0.0] [0.0] [680.0] [855.24] [0.0] \n",
            "\n",
            "y:\n",
            "[700.0] [1000.0] [881.43] [318.57] [0.0] [700.0] [1125.0] [375.0] \n",
            "\n",
            "[1350.0] [0.0] [450.0] [0.0] [1350.0] [0.0] [450.0] [0.0] \n",
            "\n",
            "[0.0] [1500.0] [1393.81] [106.19] [0.0] [1500.0] [1375.0] [125.0] \n",
            "\n",
            "[820.0] [1560.0] [820.0] [0.0] [820.0] [1560.0] [820.0] [0.0] \n",
            "\n",
            "[0.0] [565.24] [1080.0] [0.0] [0.0] [680.0] [855.24] [0.0] \n",
            "\n",
            "z:\n",
            "[0.0] [500.0] [318.57] [0.0] [0.0] [0.0] [375.0] [0.0] \n",
            "\n",
            "[0.0] [0.0] [0.0] [0.0] [0.0] [0.0] [0.0] [0.0] \n",
            "\n",
            "[0.0] [0.0] [106.19] [0.0] [0.0] [0.0] [125.0] [0.0] \n",
            "\n",
            "[0.0] [0.0] [0.0] [0.0] [0.0] [0.0] [0.0] [0.0] \n",
            "\n",
            "[0.0] [0.0] [0.0] [0.0] [0.0] [0.0] [0.0] [0.0] \n",
            "\n",
            "2861373.9254127136\n",
            "OptimizationStatus.OPTIMAL\n"
          ]
        }
      ]
    }
  ]
}